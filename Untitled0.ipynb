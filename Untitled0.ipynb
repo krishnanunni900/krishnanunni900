{
  "nbformat": 4,
  "nbformat_minor": 0,
  "metadata": {
    "colab": {
      "provenance": [],
      "authorship_tag": "ABX9TyO8MgnEt9lujrskU63a3mBw",
      "include_colab_link": true
    },
    "kernelspec": {
      "name": "python3",
      "display_name": "Python 3"
    },
    "language_info": {
      "name": "python"
    }
  },
  "cells": [
    {
      "cell_type": "markdown",
      "metadata": {
        "id": "view-in-github",
        "colab_type": "text"
      },
      "source": [
        "<a href=\"https://colab.research.google.com/github/krishnanunni900/krishnanunni900/blob/main/Untitled0.ipynb\" target=\"_parent\"><img src=\"https://colab.research.google.com/assets/colab-badge.svg\" alt=\"Open In Colab\"/></a>"
      ]
    },
    {
      "cell_type": "code",
      "source": [],
      "metadata": {
        "id": "F5Na4SP9KRAt"
      },
      "execution_count": null,
      "outputs": []
    },
    {
      "cell_type": "code",
      "execution_count": 7,
      "metadata": {
        "id": "lFUNcOqNDfOv",
        "colab": {
          "base_uri": "https://localhost:8080/"
        },
        "outputId": "263fbb53-3e5f-4e26-aa27-dcccbdf91b27"
      },
      "outputs": [
        {
          "output_type": "stream",
          "name": "stdout",
          "text": [
            "\n",
            "ARRAY 1 Elements :\n",
            "1 2 3 4\n",
            "\n",
            "ARRAY 1, ROW COLUMN :\n",
            "2 2\n",
            "\n",
            "ARRAY 1\n",
            "[[1 2]\n",
            " [3 4]]\n",
            "\n",
            "ARRAY 2 Elements :\n",
            "2 3 4 5\n",
            "\n",
            "ARRAY 2, ROW COLUMN :\n",
            "2 2\n",
            "\n",
            "ARRAY 2\n",
            "[[2 3]\n",
            " [4 5]]\n",
            "\n",
            "Dot product\n",
            "[[10 13]\n",
            " [22 29]]\n"
          ]
        }
      ],
      "source": [
        "import num py as np\n",
        "def creatematrix(mc):\n",
        "  print(\"\\nARRAY \"+str(mc)+\" Elements :\")\n",
        "  array_1 = map(int, input().split())\n",
        "  array_1 = np. array(list(array_1))\n",
        "  print(\"\\nARRAY \"+str(mc)+\", ROW COLUMN :\")\n",
        "  row,column = map(int, input().split())\n",
        "  if(len(array_1)!= (row* column)):\n",
        "    print(\"\\nRow and Column size not match with total elements, retry\")\n",
        "    return creatematrix(mc)\n",
        "  array_1 = array_1.reshape(row,column)\n",
        "  print(\"\\nARRAY \"+str(mc))\n",
        "  print(array_1)\n",
        "  return array_1\n",
        "arrl=creatematrix(1)\n",
        "arr2=creatematrix(2)\n",
        "if(arrl. shape == arr2. shape):\n",
        "  print(\"\\nDot product\")\n",
        "  print(np.dot(arrl,arr2))\n",
        "else:\n",
        "  print(\"\\nDimensions not matching!\")\n"
      ]
    },
    {
      "cell_type": "code",
      "source": [],
      "metadata": {
        "id": "eDfjNOFMcJZX"
      },
      "execution_count": null,
      "outputs": []
    }
  ]
}